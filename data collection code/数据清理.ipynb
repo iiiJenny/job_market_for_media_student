{
 "cells": [
  {
   "cell_type": "code",
   "execution_count": 1,
   "metadata": {},
   "outputs": [],
   "source": [
    "import pandas as pd\n",
    "import csv\n",
    "\n",
    "# 读取数据 & 数据清理\n",
    "df_hot = pd.read_csv('kanzhun_hot_corp_info0.csv')\n",
    "del df_hot['Unnamed: 0']\n",
    "df0 = df_hot[['name','salary','score']]\n",
    "\n",
    "# info信息拆分\n",
    "df_info = df_hot['info'].str.split('|',expand=True)\n",
    "df_info.columns = ['type','location','scale','url'] \n",
    "df_info\n",
    "\n",
    "# 合并\n",
    "new_df = pd.concat([df0,df_info], axis = 1)\n",
    "new_df\n",
    "\n",
    "new_df.to_csv(\"clean_kanzhun_hot_corp_info0.csv\")"
   ]
  },
  {
   "cell_type": "code",
   "execution_count": 2,
   "metadata": {},
   "outputs": [],
   "source": [
    "# 读取数据 & 数据清理\n",
    "df = pd.read_csv('kanzhun_corp_info0.csv')\n",
    "del df['Unnamed: 0']\n",
    "df1 = df[['name','salary','score']]\n",
    "df1\n",
    "# info信息拆分\n",
    "df_info = df['info'].str.split('|',expand=True)\n",
    "df_info.columns = ['type','location','scale','url'] \n",
    "df_info\n",
    "\n",
    "# 合并\n",
    "new_df = pd.concat([df1,df_info], axis = 1)\n",
    "new_df\n",
    "\n",
    "new_df.to_csv(\"clean_kanzhun_corp_info0.csv\")"
   ]
  },
  {
   "cell_type": "code",
   "execution_count": 3,
   "metadata": {},
   "outputs": [],
   "source": [
    "# 读取数据 & 数据清理\n",
    "df_inter = pd.read_csv('kanzhun_corp_info_internet0.csv')\n",
    "del df_inter['Unnamed: 0']\n",
    "df2 = df_inter[['name','salary','score']]\n",
    "df2\n",
    "# info信息拆分\n",
    "df_info = df_inter['info'].str.split('|',expand=True)\n",
    "df_info.columns = ['type','location','scale','url'] \n",
    "df_info\n",
    "\n",
    "# 合并\n",
    "new_df = pd.concat([df2,df_info], axis = 1)\n",
    "new_df\n",
    "\n",
    "new_df.to_csv(\"clean_kanzhun_corp_info_internet0.csv\")"
   ]
  },
  {
   "cell_type": "code",
   "execution_count": null,
   "metadata": {},
   "outputs": [],
   "source": []
  }
 ],
 "metadata": {
  "kernelspec": {
   "display_name": "Python 3",
   "language": "python",
   "name": "python3"
  },
  "language_info": {
   "codemirror_mode": {
    "name": "ipython",
    "version": 3
   },
   "file_extension": ".py",
   "mimetype": "text/x-python",
   "name": "python",
   "nbconvert_exporter": "python",
   "pygments_lexer": "ipython3",
   "version": "3.6.5"
  }
 },
 "nbformat": 4,
 "nbformat_minor": 2
}
